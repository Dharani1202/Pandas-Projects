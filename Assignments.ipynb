{
 "cells": [
  {
   "cell_type": "code",
   "execution_count": 2,
   "id": "6157aa53-31ad-45fe-9b10-2db7d3fe111f",
   "metadata": {},
   "outputs": [
    {
     "name": "stdout",
     "output_type": "stream",
     "text": [
      "list - [1, 2, 3, 4, 5, 6, 7]\n"
     ]
    }
   ],
   "source": [
    "# create a list and add one more element at end!!\n",
    "\n",
    "a=[1,2,3,4,5,6]\n",
    "a.append(7)\n",
    "print(\"list -\",a)\n"
   ]
  },
  {
   "cell_type": "code",
   "execution_count": 5,
   "id": "de599a06-d68d-40b9-85d3-c5e3413010a3",
   "metadata": {},
   "outputs": [
    {
     "name": "stdout",
     "output_type": "stream",
     "text": [
      "Product of 5 and 2 is : 10\n"
     ]
    }
   ],
   "source": [
    "#create a function to calculate product of two numbers!!\n",
    "\n",
    "def multi():\n",
    "    a=5\n",
    "    b=2\n",
    "    print(\"Product of\",a ,\"and\",b,\"is :\",a*b)\n",
    "multi()\n"
   ]
  },
  {
   "cell_type": "code",
   "execution_count": 19,
   "id": "e00023c0-5b18-42a3-8ff3-5d69d464b751",
   "metadata": {},
   "outputs": [
    {
     "name": "stdout",
     "output_type": "stream",
     "text": [
      "Farhenheit is : 152.6 ℉\n"
     ]
    }
   ],
   "source": [
    "#create a parametric function to convert celsius to farhenheit !!\n",
    "\n",
    "   \n",
    "def celsius_to_farhenheit(celsius):\n",
    "    farhenheit=(celsius*9/5)+32\n",
    "    print(\"Farhenheit is :\",farhenheit,\"℉\")\n",
    "celsius_to_farhenheit(67)\n"
   ]
  },
  {
   "cell_type": "code",
   "execution_count": 20,
   "id": "fd663043-5675-42fc-bdab-eb55064a0a7e",
   "metadata": {},
   "outputs": [
    {
     "name": "stdout",
     "output_type": "stream",
     "text": [
      "celsius is : 30.555555555555557 ℃\n"
     ]
    }
   ],
   "source": [
    "#create a parametric function to convert farhenheit to celsius!! \n",
    " \n",
    "\n",
    "def farhenheit_to_celsius(farhenheit):\n",
    "    celsius=(farhenheit-32)*5/9\n",
    "    print(\"celsius is :\",celsius,\"℃\")\n",
    "farhenheit_to_celsius(87)"
   ]
  },
  {
   "cell_type": "code",
   "execution_count": 23,
   "id": "ba3d71d6-9222-44b2-807e-832539ebc070",
   "metadata": {
    "scrolled": true
   },
   "outputs": [
    {
     "name": "stdout",
     "output_type": "stream",
     "text": [
      "a+b = [ 6  8 10 12]\n"
     ]
    }
   ],
   "source": [
    "# create two numpy arrays & perform braadcasting!!\n",
    "\n",
    "import numpy as np\n",
    "a=np.array([1,2,3,4])\n",
    "b=np.array([5,6,7,8])\n",
    "result=a+b\n",
    "print(\"a+b =\",result)"
   ]
  },
  {
   "cell_type": "code",
   "execution_count": 24,
   "id": "783be462-b842-4429-a01a-9f40f917de40",
   "metadata": {},
   "outputs": [
    {
     "name": "stdout",
     "output_type": "stream",
     "text": [
      "[ True  True  True  True]\n"
     ]
    }
   ],
   "source": [
    "# create two numpy arrays & perform braadcasting!!\n",
    "\n",
    "import numpy as np\n",
    "arr1=np.array([1,2,3,4])\n",
    "arr2=np.array([5,6,7,8])\n",
    "result=arr1<arr2\n",
    "print(result)"
   ]
  },
  {
   "cell_type": "code",
   "execution_count": 25,
   "id": "e199a990-5da4-40d3-b386-78a23957262b",
   "metadata": {},
   "outputs": [
    {
     "name": "stdout",
     "output_type": "stream",
     "text": [
      "a1*b1 = [ 5 12 21 32]\n"
     ]
    }
   ],
   "source": [
    "# create two numpy arrays & perform braadcasting!!\n",
    "\n",
    "import numpy as np\n",
    "a1=np.array([1,2,3,4])\n",
    "b1=np.array([5,6,7,8])\n",
    "result=a1*b1\n",
    "print(\"a1*b1 =\",result)"
   ]
  },
  {
   "cell_type": "code",
   "execution_count": 30,
   "id": "21ddaa06-69b7-4d4e-b16d-16fbb3dbab67",
   "metadata": {},
   "outputs": [
    {
     "name": "stdout",
     "output_type": "stream",
     "text": [
      "a/b = [1.  2.  4.  3.  2.5 5.  6. ]\n"
     ]
    }
   ],
   "source": [
    "# create two numpy arrays & perform braadcasting!!\n",
    "\n",
    "import numpy as np\n",
    "a=np.array([2,4,8,6,5,10,12],)\n",
    "b=np.array([2])\n",
    "result=a/b\n",
    "print(\"a/b =\",result)"
   ]
  },
  {
   "cell_type": "code",
   "execution_count": 40,
   "id": "d09592b0-0f68-4de7-8a1a-da0dd83ba3cb",
   "metadata": {},
   "outputs": [
    {
     "name": "stdout",
     "output_type": "stream",
     "text": [
      "   0   1\n",
      "0  3   6\n",
      "1  6   9\n",
      "2  6  14\n"
     ]
    }
   ],
   "source": [
    "# create two numpy arrays & perform braadcasting!!\n",
    "\n",
    "import numpy as np\n",
    "import pandas as pd\n",
    "a=np.array([[1,2],[3,4],[5,6]],)\n",
    "b=np.array([[2,4],[3,5],[1,8]])\n",
    "result=a+b\n",
    "output=pd.DataFrame(result)\n",
    "print(output)\n"
   ]
  },
  {
   "cell_type": "code",
   "execution_count": 41,
   "id": "ee83a75f-b0e4-4bc2-9800-a804807ed681",
   "metadata": {},
   "outputs": [
    {
     "name": "stdout",
     "output_type": "stream",
     "text": [
      "   0   1\n",
      "0  3   8\n",
      "1  6  12\n",
      "2  8  17\n"
     ]
    }
   ],
   "source": [
    "#create two numpy arrays & perform braadcasting!! \n",
    "\n",
    "import pandas as pd\n",
    "a=pd.DataFrame([[2,3],[4,5],[6,8]])\n",
    "b=pd.DataFrame([[1,5],[2,7],[2,9]])\n",
    "result=a+b\n",
    "print(result)"
   ]
  },
  {
   "cell_type": "code",
   "execution_count": 45,
   "id": "51202b9e-6194-41ee-b96d-7dfb685c39f4",
   "metadata": {},
   "outputs": [
    {
     "name": "stdout",
     "output_type": "stream",
     "text": [
      "          Name  Age  Gender\n",
      "0      dharani   22  female\n",
      "1      kishore   23    male\n",
      "2  vishnupriya   24  female\n"
     ]
    }
   ],
   "source": [
    "#create dictionary & convert into Dataframe!!\n",
    "\n",
    "import pandas as pd\n",
    "dic={\"Name\":[\"dharani\",\"kishore\",\"vishnupriya\"],\"Age\":[22,23,24],\"Gender\":[\"female\",\"male\",\"female\"]}\n",
    "output=pd.DataFrame(dic)\n",
    "print(output)\n"
   ]
  },
  {
   "cell_type": "code",
   "execution_count": 48,
   "id": "db7bf0c0-4cc7-4ce3-911a-8cf107d9e0f9",
   "metadata": {},
   "outputs": [
    {
     "name": "stdout",
     "output_type": "stream",
     "text": [
      "  Fruits name  cost of Fruits\n",
      "0       apple              50\n",
      "1      orange              60\n",
      "2       mango              80\n",
      "3      grapes              56\n",
      "4      banana              70\n"
     ]
    }
   ],
   "source": [
    "#create dictionary & convert into Dataframe!!\n",
    "\n",
    "\n",
    "import pandas as pd\n",
    "dic={\"Fruits name\":[\"apple\",\"orange\",\"mango\",\"grapes\",\"banana\"], \"cost of Fruits\":[50,60,80,56,70]}\n",
    "output=pd.DataFrame(dic)\n",
    "print(output)\n"
   ]
  },
  {
   "cell_type": "code",
   "execution_count": null,
   "id": "d4d64506-7199-4260-b6ba-72dcc9597821",
   "metadata": {},
   "outputs": [],
   "source": []
  }
 ],
 "metadata": {
  "kernelspec": {
   "display_name": "Python 3 (ipykernel)",
   "language": "python",
   "name": "python3"
  },
  "language_info": {
   "codemirror_mode": {
    "name": "ipython",
    "version": 3
   },
   "file_extension": ".py",
   "mimetype": "text/x-python",
   "name": "python",
   "nbconvert_exporter": "python",
   "pygments_lexer": "ipython3",
   "version": "3.12.7"
  }
 },
 "nbformat": 4,
 "nbformat_minor": 5
}
